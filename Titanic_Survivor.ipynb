{
  "nbformat": 4,
  "nbformat_minor": 0,
  "metadata": {
    "colab": {
      "provenance": [],
      "authorship_tag": "ABX9TyMarrIMoMeft8mVYopS8pRN",
      "include_colab_link": true
    },
    "kernelspec": {
      "name": "python3",
      "display_name": "Python 3"
    },
    "language_info": {
      "name": "python"
    }
  },
  "cells": [
    {
      "cell_type": "markdown",
      "metadata": {
        "id": "view-in-github",
        "colab_type": "text"
      },
      "source": [
        "<a href=\"https://colab.research.google.com/github/ocarnathan/Titanic_Survival_Prediction_Model/blob/main/Titanic_Survivor.ipynb\" target=\"_parent\"><img src=\"https://colab.research.google.com/assets/colab-badge.svg\" alt=\"Open In Colab\"/></a>"
      ]
    },
    {
      "cell_type": "code",
      "execution_count": 3,
      "metadata": {
        "id": "Cm8I5C4qUNA8",
        "colab": {
          "base_uri": "https://localhost:8080/"
        },
        "outputId": "0c36bf4c-e921-4c1d-a833-38c261f4104d"
      },
      "outputs": [
        {
          "output_type": "stream",
          "name": "stdout",
          "text": [
            "Cloning into 'Titanic_Survival_Prediction_Model'...\n",
            "remote: Enumerating objects: 11, done.\u001b[K\n",
            "remote: Counting objects: 100% (11/11), done.\u001b[K\n",
            "remote: Compressing objects: 100% (7/7), done.\u001b[K\n",
            "remote: Total 11 (delta 1), reused 7 (delta 0), pack-reused 0 (from 0)\u001b[K\n",
            "Receiving objects: 100% (11/11), done.\n",
            "Resolving deltas: 100% (1/1), done.\n",
            "/content/Titanic_Survival_Prediction_Model/Titanic_Survival_Prediction_Model\n"
          ]
        }
      ],
      "source": [
        "import os\n",
        "\n",
        "if not os.path.exists(\"Titanic_Survival_Prediction_Model\"):\n",
        "    !git clone https://github.com/ocarnathan/Titanic_Survival_Prediction_Model.git\n",
        "\n",
        "%cd Titanic_Survival_Prediction_Model\n"
      ]
    }
  ]
}