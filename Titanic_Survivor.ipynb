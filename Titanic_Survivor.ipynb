{
  "nbformat": 4,
  "nbformat_minor": 0,
  "metadata": {
    "colab": {
      "provenance": [],
      "authorship_tag": "ABX9TyOSXoR/ipJgw3csfzcApKhV",
      "include_colab_link": true
    },
    "kernelspec": {
      "name": "python3",
      "display_name": "Python 3"
    },
    "language_info": {
      "name": "python"
    }
  },
  "cells": [
    {
      "cell_type": "markdown",
      "metadata": {
        "id": "view-in-github",
        "colab_type": "text"
      },
      "source": [
        "<a href=\"https://colab.research.google.com/github/ocarnathan/Titanic_Survival_Prediction_Model/blob/main/Titanic_Survivor.ipynb\" target=\"_parent\"><img src=\"https://colab.research.google.com/assets/colab-badge.svg\" alt=\"Open In Colab\"/></a>"
      ]
    },
    {
      "cell_type": "code",
      "execution_count": 2,
      "metadata": {
        "id": "Cm8I5C4qUNA8",
        "colab": {
          "base_uri": "https://localhost:8080/"
        },
        "outputId": "1ec6edf4-9241-4d73-80e8-228da2d3ce3a"
      },
      "outputs": [
        {
          "output_type": "stream",
          "name": "stdout",
          "text": [
            "Cloning into 'Titanic_Survival_Prediction_Model'...\n",
            "remote: Enumerating objects: 8, done.\u001b[K\n",
            "remote: Counting objects: 100% (8/8), done.\u001b[K\n",
            "remote: Compressing objects: 100% (4/4), done.\u001b[K\n",
            "remote: Total 8 (delta 0), reused 8 (delta 0), pack-reused 0 (from 0)\u001b[K\n",
            "Receiving objects: 100% (8/8), done.\n",
            "/content/Titanic_Survival_Prediction_Model\n"
          ]
        }
      ],
      "source": [
        "!git clone https://github.com/ocarnathan/Titanic_Survival_Prediction_Model.git\n",
        "%cd Titanic_Survival_Prediction_Model\n"
      ]
    }
  ]
}